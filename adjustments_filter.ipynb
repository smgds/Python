{
 "cells": [
  {
   "cell_type": "code",
   "execution_count": null,
   "metadata": {
    "collapsed": true
   },
   "outputs": [],
   "source": [
    "# Amy Noyes\n",
    "# BIOL 51000: Data Systems Life Sciences\n",
    "# Week 6 Coding Assignment: Adjustments and Filters (contrast and sharpening)"
   ]
  },
  {
   "cell_type": "code",
   "execution_count": null,
   "metadata": {
    "collapsed": true
   },
   "outputs": [],
   "source": [
    "# import libraries\n",
    "import numpy as np\n",
    "import cv2\n",
    "from PIL import Image, ImageEnhance"
   ]
  },
  {
   "cell_type": "code",
   "execution_count": null,
   "metadata": {
    "collapsed": true
   },
   "outputs": [],
   "source": [
    "# merge Red, Green, Blue image channels to create color image\n",
    "\n",
    "# import png files and convert to grayscale to get single channel arrays\n",
    "red = cv2.imread('LenaRed.png', cv2.IMREAD_GRAYSCALE)\n",
    "green = cv2.imread('LenaGreen.png', cv2.IMREAD_GRAYSCALE)\n",
    "blue = cv2.imread('LenaBlue.png', cv2.IMREAD_GRAYSCALE)\n",
    "\n",
    "# create an empty array using the red png as size template. Convert to unit8.\n",
    "zeros = np.zeros(red.shape[:2],dtype='uint8')\n",
    "\n",
    "# merge single channel arrays\n",
    "merged = cv2.merge([blue,green,red])\n",
    "\n",
    "# display new merged image\n",
    "cv2.imshow('Merged',merged)\n",
    "# save image to file\n",
    "cv2.imwrite('rbg_merge.png', merged)"
   ]
  },
  {
   "cell_type": "code",
   "execution_count": null,
   "metadata": {
    "collapsed": true
   },
   "outputs": [],
   "source": [
    "# Contrast change of image with an argument of 2.0\n",
    "\n",
    "# import cells.jpg image\n",
    "cells = Image.open('Cells.jpg')\n",
    "\n",
    "# create processing object\n",
    "cells_object = ImageEnhance.Contrast(cells)\n",
    "# enhance method to increase the contrast to 2.0\n",
    "cells_enhance = cells_object.enhance(2.0)\n",
    "\n",
    "# displays increased contrast of cells.jpg\n",
    "cells_enhance.show()\n",
    "# saves increased contrast file\n",
    "cells_enhance = cells_enhance.save(\"cells_contrast.jpg\")"
   ]
  },
  {
   "cell_type": "code",
   "execution_count": null,
   "metadata": {
    "collapsed": true
   },
   "outputs": [],
   "source": [
    "# Sharpens image with an argument of 4.0\n",
    "\n",
    "# import 2.0 contrast image\n",
    "cells_enhance1 = Image.open('cells_contrast.jpg')\n",
    "\n",
    "# create processing object\n",
    "sharpness = ImageEnhance.Sharpness(cells_enhance1)\n",
    "# set factor to 4.0\n",
    "factor = 4\n",
    "# enhance method to sharpen by 4.0\n",
    "sharp_4 = sharpness.enhance(factor)\n",
    "\n",
    "# displays sharpened image\n",
    "sharp_4.show()\n",
    "# saves sparpened image\n",
    "sharp_4 = sharp_4.save(\"cells_sharp4.jpg\")"
   ]
  },
  {
   "cell_type": "code",
   "execution_count": null,
   "metadata": {
    "collapsed": true
   },
   "outputs": [],
   "source": [
    "# Edge detection with average brightness of 127\n",
    "\n",
    "# import cells.jpg image\n",
    "cells2 = cv2.imread('Cells.jpg')\n",
    "\n",
    "# Canny method (imput image, minVal, maxVal)\n",
    "edges = cv2.Canny(cells2,-127,128)\n",
    "\n",
    "# displays image with edge detection\n",
    "cv2.imshow('Edge Detection',edges)\n",
    "# saves image with edge detection\n",
    "cv2.imwrite('edge_detection.jpg', edges)"
   ]
  },
  {
   "cell_type": "code",
   "execution_count": null,
   "metadata": {
    "collapsed": true
   },
   "outputs": [],
   "source": [
    "# needed to display image\n",
    "cv2.waitKey(0)"
   ]
  }
 ],
 "metadata": {
  "kernelspec": {
   "display_name": "Python 3",
   "language": "python",
   "name": "python3"
  },
  "language_info": {
   "codemirror_mode": {
    "name": "ipython",
    "version": 3
   },
   "file_extension": ".py",
   "mimetype": "text/x-python",
   "name": "python",
   "nbconvert_exporter": "python",
   "pygments_lexer": "ipython3",
   "version": "3.5.2"
  }
 },
 "nbformat": 4,
 "nbformat_minor": 2
}
