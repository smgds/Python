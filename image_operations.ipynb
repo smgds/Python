{
 "cells": [
  {
   "cell_type": "code",
   "execution_count": 5,
   "metadata": {},
   "outputs": [],
   "source": [
    "# Amy Noyes\n",
    "# BIOL 51000: Data Systems Life Sciences\n",
    "# Week 6 Coding Assignment: Image Operations (rotation and resizing)"
   ]
  },
  {
   "cell_type": "code",
   "execution_count": 6,
   "metadata": {},
   "outputs": [],
   "source": [
    "# install Pillow and import\n",
    "from PIL import Image"
   ]
  },
  {
   "cell_type": "code",
   "execution_count": 7,
   "metadata": {},
   "outputs": [],
   "source": [
    "# Import an image\n",
    "image = Image.open('Lena.png')\n",
    "\n",
    "# display image\n",
    "image.show()"
   ]
  },
  {
   "cell_type": "code",
   "execution_count": 8,
   "metadata": {},
   "outputs": [],
   "source": [
    "# rotate img 270°\n",
    "image_r = image.rotate(270)\n",
    "\n",
    "# display image\n",
    "image_r.show()\n",
    "# saves rotated image\n",
    "image_r.save('lena_rotate.png', 'PNG')"
   ]
  },
  {
   "cell_type": "code",
   "execution_count": 9,
   "metadata": {},
   "outputs": [],
   "source": [
    "# resizes rotated image to 50% width and 50% length\n",
    "image_50 = image_r.resize((round(image_r.size[0]*0.5), round(image_r.size[1]*0.5)))\n",
    "\n",
    "# display image\n",
    "image_50.show()\n",
    "# saves rotated, resized image\n",
    "image_50.save('lena_rotate_50.png', 'PNG')"
   ]
  }
 ],
 "metadata": {
  "kernelspec": {
   "display_name": "Python 3",
   "language": "python",
   "name": "python3"
  },
  "language_info": {
   "codemirror_mode": {
    "name": "ipython",
    "version": 3
   },
   "file_extension": ".py",
   "mimetype": "text/x-python",
   "name": "python",
   "nbconvert_exporter": "python",
   "pygments_lexer": "ipython3",
   "version": "3.7.3"
  }
 },
 "nbformat": 4,
 "nbformat_minor": 4
}
